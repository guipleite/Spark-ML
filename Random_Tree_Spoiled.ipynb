{
 "cells": [
  {
   "cell_type": "markdown",
   "metadata": {},
   "source": [
    "## Predict if batch is going to spoil based on the percentage of each chemicals (A, B, C, D)"
   ]
  },
  {
   "cell_type": "code",
   "execution_count": 38,
   "metadata": {},
   "outputs": [
    {
     "output_type": "stream",
     "name": "stdout",
     "text": [
      "+---+---+----+---+-------+\n|  A|  B|   C|  D|Spoiled|\n+---+---+----+---+-------+\n|  4|  2|12.0|  3|    1.0|\n|  5|  6|12.0|  7|    1.0|\n|  6|  2|13.0|  6|    1.0|\n|  4|  2|12.0|  1|    1.0|\n|  4|  2|12.0|  3|    1.0|\n+---+---+----+---+-------+\nonly showing top 5 rows\n\n"
     ]
    }
   ],
   "source": [
    "import findspark\n",
    "\n",
    "findspark.init('/home/guipleite/spark-3.0.2-bin-hadoop3.2')\n",
    "\n",
    "from pyspark.sql import SparkSession\n",
    "from pyspark.ml.feature import VectorAssembler\n",
    "from pyspark.ml import Pipeline\n",
    "from pyspark.ml.classification import RandomForestClassifier\n",
    "from pyspark.ml.evaluation import BinaryClassificationEvaluator\n",
    "\n",
    "spark = SparkSession.builder.appName('Tree_exe').getOrCreate()\n",
    "\n",
    "df = spark.read.csv('dog_food.csv', inferSchema=True, header=True)\n",
    "\n",
    "df.show(5)"
   ]
  },
  {
   "cell_type": "code",
   "execution_count": 39,
   "metadata": {},
   "outputs": [
    {
     "output_type": "stream",
     "name": "stdout",
     "text": [
      "root\n |-- A: integer (nullable = true)\n |-- B: integer (nullable = true)\n |-- C: double (nullable = true)\n |-- D: integer (nullable = true)\n |-- Spoiled: double (nullable = true)\n\n"
     ]
    }
   ],
   "source": [
    "df.printSchema()"
   ]
  },
  {
   "cell_type": "code",
   "execution_count": 40,
   "metadata": {},
   "outputs": [],
   "source": [
    "clean_data = df.na.drop() # Removing rows with missing data\n",
    "\n",
    "assembler = VectorAssembler(inputCols=['A',\n",
    "                                       'B',\n",
    "                                       'C',\n",
    "                                       'D'],\n",
    "                            outputCol='features'\n",
    "                            ) \n",
    "output = assembler.transform(clean_data)"
   ]
  },
  {
   "cell_type": "code",
   "execution_count": 41,
   "metadata": {},
   "outputs": [],
   "source": [
    "rfc =  RandomForestClassifier(labelCol='Spoiled', featuresCol='features')\n",
    "\n",
    "final_data = output.select('features','Spoiled')\n",
    "\n",
    "train_data, test_data = final_data.randomSplit([0.8,0.2])"
   ]
  },
  {
   "cell_type": "code",
   "execution_count": 42,
   "metadata": {},
   "outputs": [],
   "source": [
    "rfc_model = rfc.fit(train_data)"
   ]
  },
  {
   "cell_type": "code",
   "execution_count": 43,
   "metadata": {},
   "outputs": [],
   "source": [
    "results = rfc_model.transform(test_data)\n",
    "\n",
    "eval = BinaryClassificationEvaluator(rawPredictionCol='prediction', labelCol='Spoiled')"
   ]
  },
  {
   "cell_type": "code",
   "execution_count": 44,
   "metadata": {},
   "outputs": [
    {
     "output_type": "execute_result",
     "data": {
      "text/plain": [
       "0.9926470588235294"
      ]
     },
     "metadata": {},
     "execution_count": 44
    }
   ],
   "source": [
    "eval.evaluate(results)"
   ]
  },
  {
   "cell_type": "code",
   "execution_count": 45,
   "metadata": {},
   "outputs": [
    {
     "output_type": "execute_result",
     "data": {
      "text/plain": [
       "SparseVector(4, {0: 0.0155, 1: 0.0192, 2: 0.9409, 3: 0.0244})"
      ]
     },
     "metadata": {},
     "execution_count": 45
    }
   ],
   "source": [
    "rfc_model.featureImportances"
   ]
  },
  {
   "source": [
    "The cell above shows that the feature C (with idx 2) has a much larger importance then the other chemicals meaning it contributes for the spoilage of the food a lot more then the others"
   ],
   "cell_type": "markdown",
   "metadata": {}
  }
 ],
 "metadata": {
  "anaconda-cloud": {},
  "kernelspec": {
   "name": "python3",
   "display_name": "Python 3.6.9 64-bit",
   "metadata": {
    "interpreter": {
     "hash": "31f2aee4e71d21fbe5cf8b01ff0e069b9275f58929596ceb00d14d90e3e16cd6"
    }
   }
  },
  "language_info": {
   "codemirror_mode": {
    "name": "ipython",
    "version": 3
   },
   "file_extension": ".py",
   "mimetype": "text/x-python",
   "name": "python",
   "nbconvert_exporter": "python",
   "pygments_lexer": "ipython3",
   "version": "3.6.9-final"
  }
 },
 "nbformat": 4,
 "nbformat_minor": 0
}