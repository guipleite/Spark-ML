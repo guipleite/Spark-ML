{
 "cells": [
  {
   "cell_type": "markdown",
   "metadata": {},
   "source": [
    "# Naive-Bayes Spam Classifier\n"
   ]
  },
  {
   "cell_type": "code",
   "execution_count": 1,
   "metadata": {
    "collapsed": true
   },
   "outputs": [
    {
     "output_type": "stream",
     "name": "stdout",
     "text": [
      "+-----+--------------------+\n|class|                text|\n+-----+--------------------+\n|  ham|Go until jurong p...|\n|  ham|Ok lar... Joking ...|\n| spam|Free entry in 2 a...|\n|  ham|U dun say so earl...|\n|  ham|Nah I don't think...|\n+-----+--------------------+\nonly showing top 5 rows\n\n"
     ]
    }
   ],
   "source": [
    "import findspark\n",
    "\n",
    "findspark.init('/home/guipleite/spark-3.0.2-bin-hadoop3.2')\n",
    "\n",
    "from pyspark.sql import SparkSession\n",
    "from pyspark.ml import Pipeline\n",
    "from pyspark.sql.functions import length\n",
    "from pyspark.ml.feature import Tokenizer, StopWordsRemover, CountVectorizer, IDF, StringIndexer, VectorAssembler\n",
    "from pyspark.ml.linalg import Vector\n",
    "from pyspark.ml.classification import NaiveBayes\n",
    "from pyspark.ml.evaluation import MulticlassClassificationEvaluator\n",
    "\n",
    "spark = SparkSession.builder.appName('NLP_exe').getOrCreate()\n",
    "\n",
    "# https://archive.ics.uci.edu/ml/datasets/SMS+Spam+Collection\n",
    "data = spark.read.csv(\"./SMSSpamCollection\", inferSchema=True, sep='\\t')\n",
    "df = data.withColumnRenamed('_c0', 'class').withColumnRenamed('_c1', 'text')\n",
    "\n",
    "df.show(5)"
   ]
  },
  {
   "cell_type": "code",
   "execution_count": 2,
   "metadata": {
    "collapsed": false
   },
   "outputs": [
    {
     "output_type": "stream",
     "name": "stdout",
     "text": [
      "+-----+--------------------+------+\n|class|                text|length|\n+-----+--------------------+------+\n|  ham|Go until jurong p...|   111|\n|  ham|Ok lar... Joking ...|    29|\n| spam|Free entry in 2 a...|   155|\n|  ham|U dun say so earl...|    49|\n|  ham|Nah I don't think...|    61|\n+-----+--------------------+------+\nonly showing top 5 rows\n\n"
     ]
    }
   ],
   "source": [
    "df = df.withColumn('length',length(df['text']))\n",
    "df.show(5)"
   ]
  },
  {
   "cell_type": "code",
   "execution_count": 3,
   "metadata": {
    "collapsed": false
   },
   "outputs": [
    {
     "output_type": "stream",
     "name": "stdout",
     "text": [
      "+-----+-----------------+\n|class|      avg(length)|\n+-----+-----------------+\n|  ham|71.45431945307645|\n| spam|138.6706827309237|\n+-----+-----------------+\n\n"
     ]
    }
   ],
   "source": [
    "df.groupby('class').mean().show()"
   ]
  },
  {
   "cell_type": "code",
   "execution_count": 4,
   "metadata": {
    "collapsed": false
   },
   "outputs": [],
   "source": [
    "\n",
    "indexer = StringIndexer(inputCol='class', outputCol='label')\n",
    "\n",
    "tokenizer = Tokenizer(inputCol=\"text\", outputCol=\"token_text\")\n",
    "\n",
    "stopremover = StopWordsRemover(inputCol='token_text', outputCol='stop_tokens')\n",
    "\n",
    "count_vec = CountVectorizer(inputCol='stop_tokens', outputCol='c_vec')\n",
    "\n",
    "idf = IDF(inputCol=\"c_vec\", outputCol=\"tf_idf\")\n",
    "\n",
    "clean_data = VectorAssembler(inputCols=['tf_idf','length'],outputCol='features')"
   ]
  },
  {
   "cell_type": "code",
   "execution_count": 5,
   "metadata": {
    "collapsed": true
   },
   "outputs": [],
   "source": [
    "\n",
    "prepro = Pipeline(stages=[indexer, tokenizer, stopremover, count_vec, idf, clean_data])\n",
    "pipe = prepro.fit(df)\n",
    "\n",
    "final_df = pipe.transform(df)"
   ]
  },
  {
   "cell_type": "code",
   "execution_count": 6,
   "metadata": {
    "collapsed": false
   },
   "outputs": [
    {
     "output_type": "stream",
     "name": "stdout",
     "text": [
      "+-----+--------------------+------+-----+--------------------+--------------------+--------------------+--------------------+--------------------+\n|class|                text|length|label|          token_text|         stop_tokens|               c_vec|              tf_idf|            features|\n+-----+--------------------+------+-----+--------------------+--------------------+--------------------+--------------------+--------------------+\n|  ham|Go until jurong p...|   111|  0.0|[go, until, juron...|[go, jurong, poin...|(13423,[7,11,31,6...|(13423,[7,11,31,6...|(13424,[7,11,31,6...|\n|  ham|Ok lar... Joking ...|    29|  0.0|[ok, lar..., joki...|[ok, lar..., joki...|(13423,[0,24,297,...|(13423,[0,24,297,...|(13424,[0,24,297,...|\n| spam|Free entry in 2 a...|   155|  1.0|[free, entry, in,...|[free, entry, 2, ...|(13423,[2,13,19,3...|(13423,[2,13,19,3...|(13424,[2,13,19,3...|\n|  ham|U dun say so earl...|    49|  0.0|[u, dun, say, so,...|[u, dun, say, ear...|(13423,[0,70,80,1...|(13423,[0,70,80,1...|(13424,[0,70,80,1...|\n|  ham|Nah I don't think...|    61|  0.0|[nah, i, don't, t...|[nah, think, goes...|(13423,[36,134,31...|(13423,[36,134,31...|(13424,[36,134,31...|\n+-----+--------------------+------+-----+--------------------+--------------------+--------------------+--------------------+--------------------+\nonly showing top 5 rows\n\n"
     ]
    }
   ],
   "source": [
    "final_df.show(5)"
   ]
  },
  {
   "cell_type": "code",
   "execution_count": 7,
   "metadata": {
    "collapsed": true
   },
   "outputs": [
    {
     "output_type": "stream",
     "name": "stdout",
     "text": [
      "+-----+--------------------+----------+\n|label|            features|prediction|\n+-----+--------------------+----------+\n|  0.0|(13424,[3,6,41,20...|       0.0|\n|  0.0|(13424,[3,11,165,...|       0.0|\n|  0.0|(13424,[3,12,79,8...|       0.0|\n|  0.0|(13424,[0,3,14,18...|       0.0|\n|  0.0|(13424,[6,215,245...|       0.0|\n|  0.0|(13424,[165,250,6...|       0.0|\n|  0.0|(13424,[19,29,94,...|       0.0|\n|  0.0|(13424,[261,6714,...|       1.0|\n|  0.0|(13424,[32,66,168...|       0.0|\n|  0.0|(13424,[15,32,45,...|       0.0|\n|  0.0|(13424,[5,38,589,...|       0.0|\n|  0.0|(13424,[2,5,86,10...|       0.0|\n|  0.0|(13424,[2,100,542...|       1.0|\n|  0.0|(13424,[3,6,339,7...|       0.0|\n|  0.0|(13424,[1,18,21,2...|       0.0|\n|  0.0|(13424,[2,29,135,...|       0.0|\n|  0.0|(13424,[4980,4996...|       1.0|\n|  0.0|(13424,[2,3,6,573...|       0.0|\n|  0.0|(13424,[165,1238,...|       0.0|\n|  0.0|(13424,[242,759,9...|       0.0|\n+-----+--------------------+----------+\nonly showing top 20 rows\n\n"
     ]
    }
   ],
   "source": [
    "(training, testing) = final_df.randomSplit([0.7,0.3])\n",
    "\n",
    "nb = NaiveBayes()\n",
    "nb_model = nb.fit(training)\n",
    "results = nb_model.transform(testing)\n",
    "\n",
    "results.select(['label','features','prediction']).show()"
   ]
  },
  {
   "cell_type": "code",
   "execution_count": 8,
   "metadata": {
    "collapsed": false
   },
   "outputs": [
    {
     "output_type": "execute_result",
     "data": {
      "text/plain": [
       "0.9280819059879997"
      ]
     },
     "metadata": {},
     "execution_count": 8
    }
   ],
   "source": [
    "acc_eval = MulticlassClassificationEvaluator()\n",
    "acc_eval.evaluate(results)\n"
   ]
  },
  {
   "source": [
    "Model shows a realtive good accuracy given it's simply using the email's word count and a few features to predict wether it is spam or not ."
   ],
   "cell_type": "markdown",
   "metadata": {}
  }
 ],
 "metadata": {
  "anaconda-cloud": {},
  "kernelspec": {
   "name": "python3",
   "display_name": "Python 3.6.9 64-bit",
   "metadata": {
    "interpreter": {
     "hash": "31f2aee4e71d21fbe5cf8b01ff0e069b9275f58929596ceb00d14d90e3e16cd6"
    }
   }
  },
  "language_info": {
   "codemirror_mode": {
    "name": "ipython",
    "version": 3
   },
   "file_extension": ".py",
   "mimetype": "text/x-python",
   "name": "python",
   "nbconvert_exporter": "python",
   "pygments_lexer": "ipython3",
   "version": "3.6.9-final"
  }
 },
 "nbformat": 4,
 "nbformat_minor": 0
}